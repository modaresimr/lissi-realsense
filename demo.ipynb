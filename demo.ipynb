{
 "cells": [
  {
   "cell_type": "code",
   "execution_count": 30,
   "id": "86989c38",
   "metadata": {},
   "outputs": [],
   "source": [
    "# !pip install --upgrade opencv_jupyter_ui"
   ]
  },
  {
   "cell_type": "code",
   "execution_count": 1,
   "id": "3e2121b1",
   "metadata": {},
   "outputs": [
    {
     "name": "stdout",
     "output_type": "stream",
     "text": [
      "Python 3.8.13\n"
     ]
    }
   ],
   "source": [
    "!python --version"
   ]
  },
  {
   "cell_type": "code",
   "execution_count": 2,
   "id": "a8ceccea",
   "metadata": {},
   "outputs": [],
   "source": [
    "from myreader import MyReader\n",
    "import cv2\n",
    "from opencv_jupyter_ui import cv2_imshow, cv2_destroyAllWindows"
   ]
  },
  {
   "cell_type": "code",
   "execution_count": 10,
   "id": "915f8399",
   "metadata": {},
   "outputs": [],
   "source": [
    "reader=MyReader('/raid/home/labusermodaresi/realSense/2022-04-14-first-analysis/experiments/rec-2022-05-02-downstair/ali/running/02-05-2022-17-06-49/cam1')"
   ]
  },
  {
   "cell_type": "code",
   "execution_count": 58,
   "id": "2fc76248",
   "metadata": {},
   "outputs": [
    {
     "data": {
      "application/vnd.jupyter.widget-view+json": {
       "model_id": "2c0714bbc9a546729f5733f0b3ea90af",
       "version_major": 2,
       "version_minor": 0
      },
      "text/plain": [
       "VBox(children=(HTML(value='<center>skeleton</center>'), Canvas()), layout=Layout(border='1.5px solid', width='…"
      ]
     },
     "metadata": {},
     "output_type": "display_data"
    },
    {
     "data": {
      "application/vnd.jupyter.widget-view+json": {
       "model_id": "e714acbc43524cd78bbdfd1bf8de7569",
       "version_major": 2,
       "version_minor": 0
      },
      "text/plain": [
       "VBox(children=(HTML(value='<center>color - depth</center>'), Canvas()), layout=Layout(border='1.5px solid', wi…"
      ]
     },
     "metadata": {},
     "output_type": "display_data"
    },
    {
     "data": {
      "application/vnd.jupyter.widget-view+json": {
       "model_id": "7413579b86c04f3ab853f6841f528e0e",
       "version_major": 2,
       "version_minor": 0
      },
      "text/plain": [
       "VBox(children=(HTML(value='<center>segmented</center>'), Canvas()), layout=Layout(border='1.5px solid', width=…"
      ]
     },
     "metadata": {},
     "output_type": "display_data"
    },
    {
     "name": "stdout",
     "output_type": "stream",
     "text": [
      "85\r"
     ]
    }
   ],
   "source": [
    "import mediapipe as mp\n",
    "import numpy as np\n",
    "mp_pose = mp.solutions.pose\n",
    "mp_drawing = mp.solutions.drawing_utils\n",
    "mp_drawing_styles = mp.solutions.drawing_styles\n",
    "BG_COLOR = (192, 192, 192)#gray\n",
    "\n",
    "def mediapipe_detection(image, model):\n",
    "    image = cv2.cvtColor(image, cv2.COLOR_BGR2RGB) \n",
    "    result = model.process(image)                 \n",
    "    image = cv2.cvtColor(image, cv2.COLOR_RGB2BGR) \n",
    "    mp_drawing.draw_landmarks(\n",
    "        image,\n",
    "        result.pose_landmarks,\n",
    "        mp_pose.POSE_CONNECTIONS,\n",
    "        landmark_drawing_spec=mp_drawing_styles.get_default_pose_landmarks_style())\n",
    "    annotated_image=None\n",
    "    if result.pose_landmarks:\n",
    "        annotated_image=image.copy()\n",
    "        condition = np.stack((result.segmentation_mask,) * 3, axis=-1) > 0.1\n",
    "        bg_image = np.zeros(image.shape, dtype=np.uint8)\n",
    "        bg_image[:] = BG_COLOR\n",
    "        annotated_image = np.where(condition, annotated_image, bg_image)\n",
    "        annotated_image=trim(annotated_image,condition)\n",
    "    return image, result,annotated_image\n",
    "def trim(arr, mask):\n",
    "    bounding_box = tuple(\n",
    "        slice(np.min(indexes), np.max(indexes) + 1)\n",
    "        for indexes in np.where(mask))\n",
    "    return arr[bounding_box]\n",
    "try:\n",
    " reader.seek(70)\n",
    " with mp_pose.Pose(static_image_mode=0,\n",
    "    #                       model_complexity=1, \n",
    "                          enable_segmentation=True,\n",
    "                          min_detection_confidence=0.3) as pose:\n",
    "    while reader.next():\n",
    "        color=reader.current_color\n",
    "        depth=reader.current_depth\n",
    "        depth_color=reader.colorize_current_depth()\n",
    "\n",
    "        color2=color[500:800,900:1200,:]\n",
    "        img,res,an=mediapipe_detection(color2,pose)\n",
    "        cv2_imshow('skeleton',img,width='100%',colorspace='rgb')\n",
    "        cv2_imshow('color - depth',cv2.hconcat([color,depth_color]),width='100%',colorspace='bgr')\n",
    "        cv2_imshow('segmented',an,width='100%',colorspace='bgr')\n",
    "    #     cv2_imshow('depth',,width=300)\n",
    "        print(reader.current_frame,end='\\r')\n",
    "        # break\n",
    "except KeyboardInterrupt:pass\n",
    "    "
   ]
  },
  {
   "cell_type": "code",
   "execution_count": 57,
   "id": "a1924e5d",
   "metadata": {},
   "outputs": [
    {
     "data": {
      "application/vnd.jupyter.widget-view+json": {
       "model_id": "2343a7dd4608413da3a85f903a7ee504",
       "version_major": 2,
       "version_minor": 0
      },
      "text/plain": [
       "VBox(children=(HTML(value='<center>color - depth2</center>'), Canvas()), layout=Layout(border='1.5px solid', w…"
      ]
     },
     "metadata": {},
     "output_type": "display_data"
    }
   ],
   "source": [
    "cv2.rectangle(color,(980,485),(1000,955),(0,0,255),4)\n",
    "cv2_imshow('color - depth2',cv2.hconcat([color,depth_color]),width='100%')"
   ]
  },
  {
   "cell_type": "code",
   "execution_count": 53,
   "id": "a9a725f3",
   "metadata": {},
   "outputs": [
    {
     "data": {
      "text/plain": [
       "3.4948600833065266"
      ]
     },
     "execution_count": 53,
     "metadata": {},
     "output_type": "execute_result"
    }
   ],
   "source": [
    "reader.get_distance(980,485,980,955)"
   ]
  },
  {
   "cell_type": "code",
   "execution_count": 55,
   "id": "06e2bec7",
   "metadata": {},
   "outputs": [
    {
     "data": {
      "text/plain": [
       "10.57800050242804"
      ]
     },
     "execution_count": 55,
     "metadata": {},
     "output_type": "execute_result"
    }
   ],
   "source": [
    "reader.get_depth(980,485)"
   ]
  }
 ],
 "metadata": {
  "kernelspec": {
   "display_name": "Python 3 (ipykernel)",
   "language": "python",
   "name": "python3"
  },
  "language_info": {
   "codemirror_mode": {
    "name": "ipython",
    "version": 3
   },
   "file_extension": ".py",
   "mimetype": "text/x-python",
   "name": "python",
   "nbconvert_exporter": "python",
   "pygments_lexer": "ipython3",
   "version": "3.8.13"
  }
 },
 "nbformat": 4,
 "nbformat_minor": 5
}
