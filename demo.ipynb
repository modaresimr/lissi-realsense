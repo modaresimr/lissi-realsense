{
 "cells": [
  {
   "cell_type": "code",
   "execution_count": 30,
   "id": "86989c38",
   "metadata": {},
   "outputs": [],
   "source": [
    "!pip install --upgrade opencv_jupyter_ui"
   ]
  },
  {
   "cell_type": "code",
   "execution_count": 1,
   "id": "3e2121b1",
   "metadata": {},
   "outputs": [
    {
     "name": "stdout",
     "output_type": "stream",
     "text": [
      "Python 3.8.13\n"
     ]
    }
   ],
   "source": [
    "!python --version"
   ]
  },
  {
   "cell_type": "code",
   "execution_count": 1,
   "id": "fe6fa39b",
   "metadata": {},
   "outputs": [
    {
     "name": "stdout",
     "output_type": "stream",
     "text": [
      "Collecting pyrealsense\n",
      "  Using cached pyrealsense-2.2.tar.gz (60 kB)\n",
      "  Preparing metadata (setup.py): started\n",
      "  Preparing metadata (setup.py): finished with status 'done'\n",
      "Requirement already satisfied: numpy in c:\\users\\ali\\appdata\\roaming\\python\\python39\\site-packages (from pyrealsense) (1.23.1)\n",
      "Requirement already satisfied: cython in c:\\users\\ali\\appdata\\roaming\\python\\python39\\site-packages (from pyrealsense) (0.29.30)\n",
      "Requirement already satisfied: pycparser in c:\\users\\ali\\appdata\\roaming\\python\\python39\\site-packages (from pyrealsense) (2.21)\n",
      "Requirement already satisfied: six in c:\\users\\ali\\appdata\\roaming\\python\\python39\\site-packages (from pyrealsense) (1.16.0)\n",
      "Building wheels for collected packages: pyrealsense\n",
      "  Building wheel for pyrealsense (setup.py): started\n",
      "  Building wheel for pyrealsense (setup.py): finished with status 'error'\n",
      "  Running setup.py clean for pyrealsense\n",
      "Failed to build pyrealsense\n",
      "Installing collected packages: pyrealsense\n",
      "  Running setup.py install for pyrealsense: started\n",
      "  Running setup.py install for pyrealsense: finished with status 'error'\n"
     ]
    },
    {
     "name": "stderr",
     "output_type": "stream",
     "text": [
      "  error: subprocess-exited-with-error\n",
      "  \n",
      "  python setup.py bdist_wheel did not run successfully.\n",
      "  exit code: 1\n",
      "  \n",
      "  [17 lines of output]\n",
      "  running bdist_wheel\n",
      "  running build\n",
      "  running build_py\n",
      "  creating build\n",
      "  creating build\\lib.win-amd64-3.9\n",
      "  creating build\\lib.win-amd64-3.9\\pyrealsense\n",
      "  copying pyrealsense\\constants.py -> build\\lib.win-amd64-3.9\\pyrealsense\n",
      "  copying pyrealsense\\core.py -> build\\lib.win-amd64-3.9\\pyrealsense\n",
      "  copying pyrealsense\\extlib.py -> build\\lib.win-amd64-3.9\\pyrealsense\n",
      "  copying pyrealsense\\extstruct.py -> build\\lib.win-amd64-3.9\\pyrealsense\n",
      "  copying pyrealsense\\offline.py -> build\\lib.win-amd64-3.9\\pyrealsense\n",
      "  copying pyrealsense\\stream.py -> build\\lib.win-amd64-3.9\\pyrealsense\n",
      "  copying pyrealsense\\utils.py -> build\\lib.win-amd64-3.9\\pyrealsense\n",
      "  copying pyrealsense\\__init__.py -> build\\lib.win-amd64-3.9\\pyrealsense\n",
      "  running build_ext\n",
      "  building 'pyrealsense.rsutilwrapper' extension\n",
      "  error: Microsoft Visual C++ 14.0 is required. Get it with \"Build Tools for Visual Studio\": https://visualstudio.microsoft.com/downloads/\n",
      "  [end of output]\n",
      "  \n",
      "  note: This error originates from a subprocess, and is likely not a problem with pip.\n",
      "  ERROR: Failed building wheel for pyrealsense\n",
      "  error: subprocess-exited-with-error\n",
      "  \n",
      "  Running setup.py install for pyrealsense did not run successfully.\n",
      "  exit code: 1\n",
      "  \n",
      "  [17 lines of output]\n",
      "  running install\n",
      "  running build\n",
      "  running build_py\n",
      "  creating build\n",
      "  creating build\\lib.win-amd64-3.9\n",
      "  creating build\\lib.win-amd64-3.9\\pyrealsense\n",
      "  copying pyrealsense\\constants.py -> build\\lib.win-amd64-3.9\\pyrealsense\n",
      "  copying pyrealsense\\core.py -> build\\lib.win-amd64-3.9\\pyrealsense\n",
      "  copying pyrealsense\\extlib.py -> build\\lib.win-amd64-3.9\\pyrealsense\n",
      "  copying pyrealsense\\extstruct.py -> build\\lib.win-amd64-3.9\\pyrealsense\n",
      "  copying pyrealsense\\offline.py -> build\\lib.win-amd64-3.9\\pyrealsense\n",
      "  copying pyrealsense\\stream.py -> build\\lib.win-amd64-3.9\\pyrealsense\n",
      "  copying pyrealsense\\utils.py -> build\\lib.win-amd64-3.9\\pyrealsense\n",
      "  copying pyrealsense\\__init__.py -> build\\lib.win-amd64-3.9\\pyrealsense\n",
      "  running build_ext\n",
      "  building 'pyrealsense.rsutilwrapper' extension\n",
      "  error: Microsoft Visual C++ 14.0 is required. Get it with \"Build Tools for Visual Studio\": https://visualstudio.microsoft.com/downloads/\n",
      "  [end of output]\n",
      "  \n",
      "  note: This error originates from a subprocess, and is likely not a problem with pip.\n",
      "error: legacy-install-failure\n",
      "\n",
      "Encountered error while trying to install package.\n",
      "\n",
      "pyrealsense\n",
      "\n",
      "note: This is an issue with the package mentioned above, not pip.\n",
      "hint: See above for output from the failure.\n"
     ]
    }
   ],
   "source": [
    "# !pip install --upgrade pip\n",
    "!pip install pyrealsense --user\n",
    "# !pip install Cython"
   ]
  },
  {
   "cell_type": "code",
   "execution_count": 3,
   "id": "a8ceccea",
   "metadata": {},
   "outputs": [
    {
     "ename": "ModuleNotFoundError",
     "evalue": "No module named 'cv2'",
     "output_type": "error",
     "traceback": [
      "\u001b[1;31m---------------------------------------------------------------------------\u001b[0m",
      "\u001b[1;31mModuleNotFoundError\u001b[0m                       Traceback (most recent call last)",
      "Input \u001b[1;32mIn [3]\u001b[0m, in \u001b[0;36m<cell line: 1>\u001b[1;34m()\u001b[0m\n\u001b[1;32m----> 1\u001b[0m \u001b[38;5;28;01mfrom\u001b[39;00m \u001b[38;5;21;01mlissi_realsense\u001b[39;00m \u001b[38;5;28;01mimport\u001b[39;00m MyReader\n\u001b[0;32m      2\u001b[0m \u001b[38;5;28;01mimport\u001b[39;00m \u001b[38;5;21;01mcv2\u001b[39;00m\n\u001b[0;32m      3\u001b[0m \u001b[38;5;28;01mfrom\u001b[39;00m \u001b[38;5;21;01mopencv_jupyter_ui\u001b[39;00m \u001b[38;5;28;01mimport\u001b[39;00m cv2_imshow, cv2_destroyAllWindows\n",
      "File \u001b[1;32mC:\\D\\Projects\\lissi-realsense\\lissi_realsense\\__init__.py:1\u001b[0m, in \u001b[0;36m<module>\u001b[1;34m\u001b[0m\n\u001b[1;32m----> 1\u001b[0m \u001b[38;5;28;01mfrom\u001b[39;00m \u001b[38;5;21;01m.\u001b[39;00m \u001b[38;5;28;01mimport\u001b[39;00m convert\n\u001b[0;32m      2\u001b[0m \u001b[38;5;28;01mfrom\u001b[39;00m \u001b[38;5;21;01m.\u001b[39;00m\u001b[38;5;21;01mmyreader\u001b[39;00m \u001b[38;5;28;01mimport\u001b[39;00m MyReader\n\u001b[0;32m      3\u001b[0m \u001b[38;5;28;01mfrom\u001b[39;00m \u001b[38;5;21;01m.\u001b[39;00m\u001b[38;5;21;01mrealsensewrapper\u001b[39;00m \u001b[38;5;28;01mimport\u001b[39;00m RealSense\n",
      "File \u001b[1;32mC:\\D\\Projects\\lissi-realsense\\lissi_realsense\\convert.py:9\u001b[0m, in \u001b[0;36m<module>\u001b[1;34m\u001b[0m\n\u001b[0;32m      7\u001b[0m import os\n\u001b[0;32m      8\u001b[0m \n\u001b[1;32m----> 9\u001b[0m import cv2\n\u001b[0;32m     10\u001b[0m \n\u001b[0;32m     11\u001b[0m \n",
      "\u001b[1;31mModuleNotFoundError\u001b[0m: No module named 'cv2'"
     ]
    }
   ],
   "source": [
    "from lissi_realsense import MyReader\n",
    "import cv2\n",
    "from opencv_jupyter_ui import cv2_imshow, cv2_destroyAllWindows"
   ]
  },
  {
   "cell_type": "code",
   "execution_count": 10,
   "id": "915f8399",
   "metadata": {},
   "outputs": [],
   "source": [
    "reader=MyReader('/raid/home/labusermodaresi/realSense/2022-04-14-first-analysis/experiments/rec-2022-05-02-downstair/ali/running/02-05-2022-17-06-49/cam1')"
   ]
  },
  {
   "cell_type": "code",
   "execution_count": 58,
   "id": "2fc76248",
   "metadata": {},
   "outputs": [
    {
     "data": {
      "application/vnd.jupyter.widget-view+json": {
       "model_id": "2c0714bbc9a546729f5733f0b3ea90af",
       "version_major": 2,
       "version_minor": 0
      },
      "text/plain": [
       "VBox(children=(HTML(value='<center>skeleton</center>'), Canvas()), layout=Layout(border='1.5px solid', width='…"
      ]
     },
     "metadata": {},
     "output_type": "display_data"
    },
    {
     "data": {
      "application/vnd.jupyter.widget-view+json": {
       "model_id": "e714acbc43524cd78bbdfd1bf8de7569",
       "version_major": 2,
       "version_minor": 0
      },
      "text/plain": [
       "VBox(children=(HTML(value='<center>color - depth</center>'), Canvas()), layout=Layout(border='1.5px solid', wi…"
      ]
     },
     "metadata": {},
     "output_type": "display_data"
    },
    {
     "data": {
      "application/vnd.jupyter.widget-view+json": {
       "model_id": "7413579b86c04f3ab853f6841f528e0e",
       "version_major": 2,
       "version_minor": 0
      },
      "text/plain": [
       "VBox(children=(HTML(value='<center>segmented</center>'), Canvas()), layout=Layout(border='1.5px solid', width=…"
      ]
     },
     "metadata": {},
     "output_type": "display_data"
    },
    {
     "name": "stdout",
     "output_type": "stream",
     "text": [
      "85\r"
     ]
    }
   ],
   "source": [
    "import mediapipe as mp\n",
    "import numpy as np\n",
    "mp_pose = mp.solutions.pose\n",
    "mp_drawing = mp.solutions.drawing_utils\n",
    "mp_drawing_styles = mp.solutions.drawing_styles\n",
    "BG_COLOR = (192, 192, 192)#gray\n",
    "\n",
    "def mediapipe_detection(image, model):\n",
    "    image = cv2.cvtColor(image, cv2.COLOR_BGR2RGB) \n",
    "    result = model.process(image)                 \n",
    "    image = cv2.cvtColor(image, cv2.COLOR_RGB2BGR) \n",
    "    mp_drawing.draw_landmarks(\n",
    "        image,\n",
    "        result.pose_landmarks,\n",
    "        mp_pose.POSE_CONNECTIONS,\n",
    "        landmark_drawing_spec=mp_drawing_styles.get_default_pose_landmarks_style())\n",
    "    annotated_image=None\n",
    "    if result.pose_landmarks:\n",
    "        annotated_image=image.copy()\n",
    "        condition = np.stack((result.segmentation_mask,) * 3, axis=-1) > 0.1\n",
    "        bg_image = np.zeros(image.shape, dtype=np.uint8)\n",
    "        bg_image[:] = BG_COLOR\n",
    "        annotated_image = np.where(condition, annotated_image, bg_image)\n",
    "        annotated_image=trim(annotated_image,condition)\n",
    "    return image, result,annotated_image\n",
    "def trim(arr, mask):\n",
    "    bounding_box = tuple(\n",
    "        slice(np.min(indexes), np.max(indexes) + 1)\n",
    "        for indexes in np.where(mask))\n",
    "    return arr[bounding_box]\n",
    "try:\n",
    " reader.seek(70)\n",
    " with mp_pose.Pose(static_image_mode=0,\n",
    "    #                       model_complexity=1, \n",
    "                          enable_segmentation=True,\n",
    "                          min_detection_confidence=0.3) as pose:\n",
    "    while reader.next():\n",
    "        color=reader.get_color_frame()\n",
    "        depth=reader.get_depth_frame()\n",
    "        infrared=reader.get_infrared_frame(1)\n",
    "        depth_color=reader.get_colorized_depth()\n",
    "\n",
    "        color2=color[500:800,900:1200,:]\n",
    "        img,res,an=mediapipe_detection(color2,pose)\n",
    "        cv2_imshow('skeleton',img,width='100%',colorspace='rgb')\n",
    "        cv2_imshow('color - depth',cv2.hconcat([color,depth_color]),width='100%',colorspace='bgr')\n",
    "        cv2_imshow('segmented',an,width='100%',colorspace='bgr')\n",
    "    #     cv2_imshow('depth',,width=300)\n",
    "        print(reader.framen,end='\\r')\n",
    "        # break\n",
    "except KeyboardInterrupt:pass\n",
    "    "
   ]
  },
  {
   "cell_type": "code",
   "execution_count": 57,
   "id": "a1924e5d",
   "metadata": {},
   "outputs": [
    {
     "data": {
      "application/vnd.jupyter.widget-view+json": {
       "model_id": "2343a7dd4608413da3a85f903a7ee504",
       "version_major": 2,
       "version_minor": 0
      },
      "text/plain": [
       "VBox(children=(HTML(value='<center>color - depth2</center>'), Canvas()), layout=Layout(border='1.5px solid', w…"
      ]
     },
     "metadata": {},
     "output_type": "display_data"
    }
   ],
   "source": [
    "cv2.rectangle(color,(980,485),(1000,955),(0,0,255),4)\n",
    "cv2_imshow('color - depth2',cv2.hconcat([color,depth_color]),width='100%')"
   ]
  },
  {
   "cell_type": "code",
   "execution_count": 53,
   "id": "a9a725f3",
   "metadata": {},
   "outputs": [
    {
     "data": {
      "text/plain": [
       "3.4948600833065266"
      ]
     },
     "execution_count": 53,
     "metadata": {},
     "output_type": "execute_result"
    }
   ],
   "source": [
    "reader.measure_distance(980,485,980,955)"
   ]
  },
  {
   "cell_type": "code",
   "execution_count": 55,
   "id": "06e2bec7",
   "metadata": {},
   "outputs": [
    {
     "data": {
      "text/plain": [
       "10.57800050242804"
      ]
     },
     "execution_count": 55,
     "metadata": {},
     "output_type": "execute_result"
    }
   ],
   "source": [
    "reader.measure_depth(980,485)"
   ]
  }
 ],
 "metadata": {
  "kernelspec": {
   "display_name": "Python 3.10.4 64-bit",
   "language": "python",
   "name": "python3"
  },
  "language_info": {
   "codemirror_mode": {
    "name": "ipython",
    "version": 3
   },
   "file_extension": ".py",
   "mimetype": "text/x-python",
   "name": "python",
   "nbconvert_exporter": "python",
   "pygments_lexer": "ipython3",
   "version": "3.10.4"
  },
  "vscode": {
   "interpreter": {
    "hash": "27923e36a66ab94b0f82c571a235811eab9119ab3260fa5ac7bd931b29565447"
   }
  }
 },
 "nbformat": 4,
 "nbformat_minor": 5
}
