{
 "cells": [
  {
   "cell_type": "code",
   "execution_count": 2,
   "id": "d3538734",
   "metadata": {},
   "outputs": [],
   "source": [
    "# !pip install --upgrade opencv_jupyter_ui"
   ]
  },
  {
   "cell_type": "code",
   "execution_count": 1,
   "id": "99b1a822",
   "metadata": {},
   "outputs": [],
   "source": [
    "from myreader import MyReader\n",
    "import cv2\n",
    "from opencv_jupyter_ui import cv2_imshow, cv2_destroyAllWindows\n",
    "import mediapipe as mp\n",
    "mp_drawing = mp.solutions.drawing_utils\n",
    "mp_pose = mp.solutions.pose\n"
   ]
  },
  {
   "cell_type": "code",
   "execution_count": 2,
   "id": "adbc7b61",
   "metadata": {},
   "outputs": [],
   "source": [
    "reader=MyReader('test')"
   ]
  },
  {
   "cell_type": "code",
   "execution_count": 43,
   "id": "01e50642",
   "metadata": {},
   "outputs": [
    {
     "data": {
      "application/vnd.jupyter.widget-view+json": {
       "model_id": "e70f823a615f445f99aa6356c8c171a9",
       "version_major": 2,
       "version_minor": 0
      },
      "text/plain": [
       "VBox(children=(HTML(value='<center>skeleton</center>'), Canvas()), layout=Layout(border='1.5px solid', width='…"
      ]
     },
     "metadata": {},
     "output_type": "display_data"
    },
    {
     "name": "stdout",
     "output_type": "stream",
     "text": [
      "701\r"
     ]
    }
   ],
   "source": [
    "try:\n",
    " reader.seek(700)\n",
    " with mp_pose.Pose(static_image_mode=0,\n",
    "    #                       model_complexity=1, \n",
    "    #                       enable_segmentation=True,\n",
    "                          min_detection_confidence=0.3) as pose:\n",
    "  while reader.next():\n",
    "    color=reader.current_color\n",
    "    depth=reader.current_depth\n",
    "    depth_color=reader.colorize_current_depth()\n",
    "\n",
    "    color2=color[500:800,900:1200,:]\n",
    "    img,res,an=mediapipe_detection(color2,pose)\n",
    "    cv2_imshow('skeleton',img,'100%')\n",
    "#     cv2_imshow('color - depth',cv2.hconcat([color,depth_color]),width='100%')\n",
    "#     cv2_imshow('depth',,width=300)\n",
    "    print(reader.current_frame,end='\\r')\n",
    "    break\n",
    "except KeyboardInterupt:pass\n",
    "    "
   ]
  },
  {
   "cell_type": "code",
   "execution_count": 19,
   "id": "dcdb19b8",
   "metadata": {},
   "outputs": [
    {
     "data": {
      "application/vnd.jupyter.widget-view+json": {
       "model_id": "214da10ca5a7424b8fee173a9f915cf3",
       "version_major": 2,
       "version_minor": 0
      },
      "text/plain": [
       "VBox(children=(HTML(value='<center>color - depth</center>'), Canvas()), layout=Layout(border='1.5px solid', wi…"
      ]
     },
     "metadata": {},
     "output_type": "display_data"
    },
    {
     "name": "stdout",
     "output_type": "stream",
     "text": [
      "850\r"
     ]
    }
   ],
   "source": [
    "reader.seek(850)\n",
    "color=reader.current_color\n",
    "depth=reader.current_depth\n",
    "depth_color=reader.colorize_current_depth()\n",
    "cv2_imshow('color - depth',cv2.hconcat([color,depth_color]),width='100%')\n",
    "#     cv2_imshow('depth',,width=300)\n",
    "print(reader.current_frame,end='\\r')"
   ]
  },
  {
   "cell_type": "code",
   "execution_count": 7,
   "id": "15258350",
   "metadata": {},
   "outputs": [
    {
     "data": {
      "application/vnd.jupyter.widget-view+json": {
       "model_id": "0045363ee11649e2b293f0f81597d5bb",
       "version_major": 2,
       "version_minor": 0
      },
      "text/plain": [
       "VBox(children=(HTML(value='<center>color - depth</center>'), Canvas()), layout=Layout(border='1.5px solid', wi…"
      ]
     },
     "metadata": {},
     "output_type": "display_data"
    }
   ],
   "source": [
    "cv2.rectangle(color,(980,485),(1000,955),(0,0,255),4)\n",
    "cv2_imshow('color - depth',cv2.hconcat([color,depth_color]))#,width='100%')"
   ]
  },
  {
   "cell_type": "code",
   "execution_count": 8,
   "id": "c8b23ca1",
   "metadata": {},
   "outputs": [
    {
     "data": {
      "text/plain": [
       "1.922576195799822"
      ]
     },
     "execution_count": 8,
     "metadata": {},
     "output_type": "execute_result"
    }
   ],
   "source": [
    "reader.get_distance(980,485,980,955)"
   ]
  },
  {
   "cell_type": "code",
   "execution_count": 10,
   "id": "919abf36",
   "metadata": {},
   "outputs": [],
   "source": [
    "def mediapipe_detection(image, model):\n",
    "    result = model.process(image)                 \n",
    "    mp_drawing.draw_landmarks(\n",
    "        image,\n",
    "        result.pose_landmarks,\n",
    "        mp_pose.POSE_CONNECTIONS,\n",
    "#         landmark_drawing_spec=mp_drawing_styles.get_default_pose_landmarks_style()\n",
    "    )\n",
    "    annotated_image=None\n",
    "    if result.pose_landmarks:\n",
    "        annotated_image=image.copy()\n",
    "        if 0:\n",
    "            condition = np.stack((result.segmentation_mask,) * 3, axis=-1) > 0.1\n",
    "            bg_image = np.zeros(image.shape, dtype=np.uint8)\n",
    "            bg_image[:] = BG_COLOR\n",
    "            annotated_image = np.where(condition, annotated_image, bg_image)\n",
    "            annotated_image=trim(annotated_image,condition)\n",
    "    return image, result,annotated_image\n"
   ]
  },
  {
   "cell_type": "code",
   "execution_count": 20,
   "id": "ee439aac",
   "metadata": {},
   "outputs": [
    {
     "data": {
      "application/vnd.jupyter.widget-view+json": {
       "model_id": "aa0324f0bb9340d3aeabecb3ef4846a9",
       "version_major": 2,
       "version_minor": 0
      },
      "text/plain": [
       "VBox(children=(HTML(value='<center>skeleton</center>'), Canvas()), layout=Layout(border='1.5px solid', width='…"
      ]
     },
     "metadata": {},
     "output_type": "display_data"
    }
   ],
   "source": [
    "import mediapipe as mp\n",
    "mp_drawing = mp.solutions.drawing_utils\n",
    "mp_pose = mp.solutions.pose\n",
    "\n",
    "with mp_pose.Pose(static_image_mode=0,\n",
    "#                       model_complexity=1, \n",
    "#                       enable_segmentation=True,\n",
    "                      min_detection_confidence=0.3) as pose:\n",
    "    img,res,an=mediapipe_detection(color,pose)\n",
    "    cv2_imshow('skeleton',img,'100%')"
   ]
  },
  {
   "cell_type": "code",
   "execution_count": 8,
   "id": "4fb51342",
   "metadata": {},
   "outputs": [
    {
     "data": {
      "text/plain": [
       "[-2.102172613143921, -1.2097043991088867, 3.0]"
      ]
     },
     "execution_count": 8,
     "metadata": {},
     "output_type": "execute_result"
    }
   ],
   "source": []
  }
 ],
 "metadata": {
  "kernelspec": {
   "display_name": "Python 3",
   "language": "python",
   "name": "python3"
  },
  "language_info": {
   "codemirror_mode": {
    "name": "ipython",
    "version": 3
   },
   "file_extension": ".py",
   "mimetype": "text/x-python",
   "name": "python",
   "nbconvert_exporter": "python",
   "pygments_lexer": "ipython3",
   "version": "3.6.8"
  }
 },
 "nbformat": 4,
 "nbformat_minor": 5
}
